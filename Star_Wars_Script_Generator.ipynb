{
  "nbformat": 4,
  "nbformat_minor": 0,
  "metadata": {
    "colab": {
      "name": "Star_Wars_Script_Generator.ipynb",
      "provenance": [],
      "collapsed_sections": [],
      "authorship_tag": "ABX9TyPdDK51m6NQ5IGbshlaE9UV",
      "include_colab_link": true
    },
    "kernelspec": {
      "name": "python3",
      "display_name": "Python 3"
    },
    "accelerator": "GPU"
  },
  "cells": [
    {
      "cell_type": "markdown",
      "metadata": {
        "id": "view-in-github",
        "colab_type": "text"
      },
      "source": [
        "<a href=\"https://colab.research.google.com/github/gollum-98/NLP_Script_Generator/blob/master/Star_Wars_Script_Generator.ipynb\" target=\"_parent\"><img src=\"https://colab.research.google.com/assets/colab-badge.svg\" alt=\"Open In Colab\"/></a>"
      ]
    },
    {
      "cell_type": "code",
      "metadata": {
        "id": "ipW01zzA62Vd",
        "colab_type": "code",
        "colab": {}
      },
      "source": [
        "import numpy as np\n",
        "import tensorflow as tf\n",
        "from tensorflow.keras.preprocessing.text import Tokenizer\n",
        "from tensorflow.keras.preprocessing.sequence import pad_sequences"
      ],
      "execution_count": null,
      "outputs": []
    },
    {
      "cell_type": "code",
      "metadata": {
        "id": "rf3e-jbm-mo2",
        "colab_type": "code",
        "colab": {}
      },
      "source": [
        "with open(\"/content/SW_.txt\") as f:\n",
        "  data = f.readlines()\n",
        "#print(data)"
      ],
      "execution_count": null,
      "outputs": []
    },
    {
      "cell_type": "code",
      "metadata": {
        "id": "uGKbIHB-_qbJ",
        "colab_type": "code",
        "colab": {}
      },
      "source": [
        "tokenizer = Tokenizer(oov_token=\"<UNK>\",filters = '!\"#$%&()*+,-./:;<=>?@[\\\\]^_`{|}~\\t')\n",
        "tokenizer.fit_on_texts(data)\n",
        "word_index = tokenizer.word_index\n",
        "print(len(word_index))"
      ],
      "execution_count": null,
      "outputs": []
    },
    {
      "cell_type": "code",
      "metadata": {
        "id": "OHjqxVe6Fbri",
        "colab_type": "code",
        "colab": {}
      },
      "source": [
        "print(word_index)"
      ],
      "execution_count": null,
      "outputs": []
    },
    {
      "cell_type": "code",
      "metadata": {
        "id": "NmYuSyx5Fgsr",
        "colab_type": "code",
        "colab": {}
      },
      "source": [
        "input_sequences = []\n",
        "for line in data:\n",
        "  token_list = tokenizer.texts_to_sequences([line])[0]\n",
        "  for i in range (1,len(token_list)):\n",
        "    n_gram = token_list[:i+1]\n",
        "    input_sequences.append(n_gram)\n",
        "print(input_sequences)"
      ],
      "execution_count": null,
      "outputs": []
    },
    {
      "cell_type": "code",
      "metadata": {
        "id": "2vN6M1RmGl8G",
        "colab_type": "code",
        "colab": {}
      },
      "source": [
        "##pad sequences\n",
        "max_length = max([len(x) for x in input_sequences])\n",
        "x = pad_sequences(input_sequences,maxlen=max_length)\n",
        "seq = np.array(x)"
      ],
      "execution_count": null,
      "outputs": []
    },
    {
      "cell_type": "code",
      "metadata": {
        "id": "7PJgceGwIdH2",
        "colab_type": "code",
        "colab": {}
      },
      "source": [
        "xs, labels = seq[:,:-1],seq[:,-1]"
      ],
      "execution_count": null,
      "outputs": []
    },
    {
      "cell_type": "code",
      "metadata": {
        "id": "bRnFyUdxI7LJ",
        "colab_type": "code",
        "colab": {}
      },
      "source": [
        "print(xs.shape)"
      ],
      "execution_count": null,
      "outputs": []
    },
    {
      "cell_type": "code",
      "metadata": {
        "id": "-6EGYGvNI8pI",
        "colab_type": "code",
        "colab": {}
      },
      "source": [
        "print(labels)"
      ],
      "execution_count": null,
      "outputs": []
    },
    {
      "cell_type": "code",
      "metadata": {
        "id": "yzMqA0yXI-rW",
        "colab_type": "code",
        "colab": {}
      },
      "source": [
        "total_words = len(word_index) + 1\n",
        "from tensorflow.keras.utils import to_categorical\n",
        "ys = to_categorical(labels,total_words)"
      ],
      "execution_count": null,
      "outputs": []
    },
    {
      "cell_type": "code",
      "metadata": {
        "id": "QxBr1QRo5zkx",
        "colab_type": "code",
        "colab": {}
      },
      "source": [
        "!wget --no-check-certificate \\\n",
        "    https://storage.googleapis.com/laurencemoroney-blog.appspot.com/glove.6B.100d.txt \\\n",
        "    -O /tmp/glove.6B.100d.txt\n",
        "embeddings_index = {};\n",
        "with open('/tmp/glove.6B.100d.txt') as f:\n",
        "    for line in f:\n",
        "        values = line.split();\n",
        "        word = values[0];\n",
        "        coefs = np.asarray(values[1:], dtype='float32');\n",
        "        embeddings_index[word] = coefs;\n",
        "\n",
        "embeddings_matrix = np.zeros((total_words, 100));\n",
        "for word, i in word_index.items():\n",
        "    embedding_vector = embeddings_index.get(word);\n",
        "    if embedding_vector is not None:\n",
        "        embeddings_matrix[i] = embedding_vector;"
      ],
      "execution_count": null,
      "outputs": []
    },
    {
      "cell_type": "code",
      "metadata": {
        "id": "fm9CcJipJc0x",
        "colab_type": "code",
        "colab": {}
      },
      "source": [
        "model = tf.keras.models.Sequential([\n",
        "                                    tf.keras.layers.Embedding(total_words,100,input_length=max_length-1,weights=[embeddings_matrix], trainable=False),\n",
        "                                    tf.keras.layers.Bidirectional(tf.keras.layers.LSTM(512,return_sequences=True)),\n",
        "                                    tf.keras.layers.Bidirectional(tf.keras.layers.LSTM(512)),\n",
        "                                    tf.keras.layers.Dense(total_words*2,activation=\"relu\"),\n",
        "                                    tf.keras.layers.Dense(total_words,activation=\"softmax\")\n",
        "])\n",
        "model.summary()\n",
        "model.compile(loss=\"categorical_crossentropy\",optimizer=tf.keras.optimizers.Adam(),metrics=[\"accuracy\"])"
      ],
      "execution_count": null,
      "outputs": []
    },
    {
      "cell_type": "code",
      "metadata": {
        "id": "lMMha2_VKrAG",
        "colab_type": "code",
        "colab": {}
      },
      "source": [
        "history = model.fit(xs,ys,epochs=70,batch_size=256)"
      ],
      "execution_count": null,
      "outputs": []
    },
    {
      "cell_type": "code",
      "metadata": {
        "id": "-6NhYr3eK6kR",
        "colab_type": "code",
        "colab": {}
      },
      "source": [
        "seed_text = 'character dialogue\\nLuke This isn\\'t the droid'\n",
        "next_words = 100\n",
        "  \n",
        "for _ in range(next_words):\n",
        "\ttoken_list = tokenizer.texts_to_sequences([seed_text])[0]\n",
        "\ttoken_list = pad_sequences([token_list], maxlen=max_length-1, padding='pre')\n",
        "\tpredicted = model.predict_classes(token_list, verbose=0)\n",
        "\toutput_word = \"\"\n",
        "\tfor word, index in tokenizer.word_index.items():\n",
        "\t\tif index == predicted:\n",
        "\t\t\toutput_word = word\n",
        "\t\t\tbreak\n",
        "\tseed_text += \" \" + output_word\n",
        "print(seed_text)"
      ],
      "execution_count": null,
      "outputs": []
    },
    {
      "cell_type": "code",
      "metadata": {
        "id": "e1W_moJKD5p-",
        "colab_type": "code",
        "colab": {}
      },
      "source": [
        ""
      ],
      "execution_count": null,
      "outputs": []
    }
  ]
}